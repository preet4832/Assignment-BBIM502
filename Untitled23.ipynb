{
 "cells": [
  {
   "cell_type": "code",
   "execution_count": 19,
   "id": "2d93b98b-89f5-49cc-8db7-a101d69690d2",
   "metadata": {},
   "outputs": [
    {
     "name": "stdout",
     "output_type": "stream",
     "text": [
      "\n",
      "Hotel Management System\n",
      "1. Add Room\n",
      "2. Delete Room\n",
      "3. Display Rooms Details\n",
      "4. Allocate Rooms\n",
      "5. Display Room Allocation Details\n",
      "6. Billing & De-Allocation\n",
      "7. Save Room Allocation to File\n",
      "8. Show Room Allocation from File\n",
      "9. Backup Room Allocation File\n",
      "0. Exit Application\n"
     ]
    },
    {
     "name": "stdin",
     "output_type": "stream",
     "text": [
      "Enter your choice:  1\n",
      "Enter room number:  786\n",
      "Enter room features:  ac\n",
      "Enter room price:  345\n"
     ]
    },
    {
     "name": "stdout",
     "output_type": "stream",
     "text": [
      "Room 786 added successfully.\n",
      "\n",
      "Hotel Management System\n",
      "1. Add Room\n",
      "2. Delete Room\n",
      "3. Display Rooms Details\n",
      "4. Allocate Rooms\n",
      "5. Display Room Allocation Details\n",
      "6. Billing & De-Allocation\n",
      "7. Save Room Allocation to File\n",
      "8. Show Room Allocation from File\n",
      "9. Backup Room Allocation File\n",
      "0. Exit Application\n"
     ]
    },
    {
     "name": "stdin",
     "output_type": "stream",
     "text": [
      "Enter your choice:  2\n",
      "Enter room number to delete:  786\n"
     ]
    },
    {
     "name": "stdout",
     "output_type": "stream",
     "text": [
      "Room 786 deleted successfully.\n",
      "\n",
      "Hotel Management System\n",
      "1. Add Room\n",
      "2. Delete Room\n",
      "3. Display Rooms Details\n",
      "4. Allocate Rooms\n",
      "5. Display Room Allocation Details\n",
      "6. Billing & De-Allocation\n",
      "7. Save Room Allocation to File\n",
      "8. Show Room Allocation from File\n",
      "9. Backup Room Allocation File\n",
      "0. Exit Application\n"
     ]
    },
    {
     "name": "stdin",
     "output_type": "stream",
     "text": [
      "Enter your choice:  1\n",
      "Enter room number:  786\n",
      "Enter room features:  ac\n",
      "Enter room price:  346\n"
     ]
    },
    {
     "name": "stdout",
     "output_type": "stream",
     "text": [
      "Room 786 added successfully.\n",
      "\n",
      "Hotel Management System\n",
      "1. Add Room\n",
      "2. Delete Room\n",
      "3. Display Rooms Details\n",
      "4. Allocate Rooms\n",
      "5. Display Room Allocation Details\n",
      "6. Billing & De-Allocation\n",
      "7. Save Room Allocation to File\n",
      "8. Show Room Allocation from File\n",
      "9. Backup Room Allocation File\n",
      "0. Exit Application\n"
     ]
    },
    {
     "name": "stdin",
     "output_type": "stream",
     "text": [
      "Enter your choice:  3\n"
     ]
    },
    {
     "name": "stdout",
     "output_type": "stream",
     "text": [
      "Room 786: Features - ac, Price - 346.0\n",
      "\n",
      "Hotel Management System\n",
      "1. Add Room\n",
      "2. Delete Room\n",
      "3. Display Rooms Details\n",
      "4. Allocate Rooms\n",
      "5. Display Room Allocation Details\n",
      "6. Billing & De-Allocation\n",
      "7. Save Room Allocation to File\n",
      "8. Show Room Allocation from File\n",
      "9. Backup Room Allocation File\n",
      "0. Exit Application\n"
     ]
    },
    {
     "name": "stdin",
     "output_type": "stream",
     "text": [
      "Enter your choice:  4\n",
      "Enter room number to allocate:  786\n",
      "Enter customer name:  Manpreet Singh\n"
     ]
    },
    {
     "name": "stdout",
     "output_type": "stream",
     "text": [
      "Room 786 allocated to Manpreet Singh.\n",
      "\n",
      "Hotel Management System\n",
      "1. Add Room\n",
      "2. Delete Room\n",
      "3. Display Rooms Details\n",
      "4. Allocate Rooms\n",
      "5. Display Room Allocation Details\n",
      "6. Billing & De-Allocation\n",
      "7. Save Room Allocation to File\n",
      "8. Show Room Allocation from File\n",
      "9. Backup Room Allocation File\n",
      "0. Exit Application\n"
     ]
    },
    {
     "name": "stdin",
     "output_type": "stream",
     "text": [
      "Enter your choice:  5\n"
     ]
    },
    {
     "name": "stdout",
     "output_type": "stream",
     "text": [
      "Room 786 is allocated to Manpreet Singh.\n",
      "\n",
      "Hotel Management System\n",
      "1. Add Room\n",
      "2. Delete Room\n",
      "3. Display Rooms Details\n",
      "4. Allocate Rooms\n",
      "5. Display Room Allocation Details\n",
      "6. Billing & De-Allocation\n",
      "7. Save Room Allocation to File\n",
      "8. Show Room Allocation from File\n",
      "9. Backup Room Allocation File\n",
      "0. Exit Application\n"
     ]
    },
    {
     "name": "stdin",
     "output_type": "stream",
     "text": [
      "Enter your choice:  6\n",
      "Enter room number to deallocate:  786\n"
     ]
    },
    {
     "name": "stdout",
     "output_type": "stream",
     "text": [
      "Room 786 has been deallocated from Manpreet Singh.\n",
      "Billing amount for Manpreet Singh is $346.0.\n",
      "\n",
      "Hotel Management System\n",
      "1. Add Room\n",
      "2. Delete Room\n",
      "3. Display Rooms Details\n",
      "4. Allocate Rooms\n",
      "5. Display Room Allocation Details\n",
      "6. Billing & De-Allocation\n",
      "7. Save Room Allocation to File\n",
      "8. Show Room Allocation from File\n",
      "9. Backup Room Allocation File\n",
      "0. Exit Application\n"
     ]
    },
    {
     "name": "stdin",
     "output_type": "stream",
     "text": [
      "Enter your choice:  4\n",
      "Enter room number to allocate:  786\n",
      "Enter customer name:  Manpreet Singh\n"
     ]
    },
    {
     "name": "stdout",
     "output_type": "stream",
     "text": [
      "Room 786 allocated to Manpreet Singh.\n",
      "\n",
      "Hotel Management System\n",
      "1. Add Room\n",
      "2. Delete Room\n",
      "3. Display Rooms Details\n",
      "4. Allocate Rooms\n",
      "5. Display Room Allocation Details\n",
      "6. Billing & De-Allocation\n",
      "7. Save Room Allocation to File\n",
      "8. Show Room Allocation from File\n",
      "9. Backup Room Allocation File\n",
      "0. Exit Application\n"
     ]
    },
    {
     "name": "stdin",
     "output_type": "stream",
     "text": [
      "Enter your choice:  7\n"
     ]
    },
    {
     "name": "stdout",
     "output_type": "stream",
     "text": [
      "Room allocation saved to file.\n",
      "\n",
      "Hotel Management System\n",
      "1. Add Room\n",
      "2. Delete Room\n",
      "3. Display Rooms Details\n",
      "4. Allocate Rooms\n",
      "5. Display Room Allocation Details\n",
      "6. Billing & De-Allocation\n",
      "7. Save Room Allocation to File\n",
      "8. Show Room Allocation from File\n",
      "9. Backup Room Allocation File\n",
      "0. Exit Application\n"
     ]
    },
    {
     "name": "stdin",
     "output_type": "stream",
     "text": [
      "Enter your choice:  8\n"
     ]
    },
    {
     "name": "stdout",
     "output_type": "stream",
     "text": [
      "Room 786: Manpreet Singh\n",
      "\n",
      "Hotel Management System\n",
      "1. Add Room\n",
      "2. Delete Room\n",
      "3. Display Rooms Details\n",
      "4. Allocate Rooms\n",
      "5. Display Room Allocation Details\n",
      "6. Billing & De-Allocation\n",
      "7. Save Room Allocation to File\n",
      "8. Show Room Allocation from File\n",
      "9. Backup Room Allocation File\n",
      "0. Exit Application\n"
     ]
    },
    {
     "name": "stdin",
     "output_type": "stream",
     "text": [
      "Enter your choice:  9\n"
     ]
    },
    {
     "name": "stdout",
     "output_type": "stream",
     "text": [
      "Backup created: LHMS_764707639_Backup_20240711_214710.txt\n",
      "\n",
      "Hotel Management System\n",
      "1. Add Room\n",
      "2. Delete Room\n",
      "3. Display Rooms Details\n",
      "4. Allocate Rooms\n",
      "5. Display Room Allocation Details\n",
      "6. Billing & De-Allocation\n",
      "7. Save Room Allocation to File\n",
      "8. Show Room Allocation from File\n",
      "9. Backup Room Allocation File\n",
      "0. Exit Application\n"
     ]
    },
    {
     "name": "stdin",
     "output_type": "stream",
     "text": [
      "Enter your choice:  0\n"
     ]
    },
    {
     "name": "stdout",
     "output_type": "stream",
     "text": [
      "Exiting application.\n"
     ]
    }
   ],
   "source": [
    "import os\n",
    "import datetime\n",
    "\n",
    "rooms = {}\n",
    "room_allocations = {}\n",
    "filename = \"LHMS_764707639.txt\"\n",
    "\n",
    "def create_file_if_not_exists():\n",
    "    if not os.path.exists(filename):\n",
    "        with open(filename, 'w') as f:\n",
    "            f.write(\"\")\n",
    "\n",
    "def add_room():\n",
    "    try:\n",
    "        room_number = input(\"Enter room number: \")\n",
    "        features = input(\"Enter room features: \")\n",
    "        price = float(input(\"Enter room price: \"))\n",
    "        if room_number not in rooms:\n",
    "            rooms[room_number] = {'features': features, 'price': price}\n",
    "            print(f\"Room {room_number} added successfully.\")\n",
    "        else:\n",
    "            print(f\"Room {room_number} already exists.\")\n",
    "    except ValueError as e:\n",
    "        print(f\"Invalid price entered. Please enter a valid number. Error: {e}\")\n",
    "    except Exception as e:\n",
    "        print(f\"Error adding room: {e}\")\n",
    "\n",
    "def delete_room():\n",
    "    try:\n",
    "        room_number = input(\"Enter room number to delete: \")\n",
    "        if room_number in rooms:\n",
    "            del rooms[room_number]\n",
    "            print(f\"Room {room_number} deleted successfully.\")\n",
    "        else:\n",
    "            print(f\"Room {room_number} does not exist.\")\n",
    "    except Exception as e:\n",
    "        print(f\"Error deleting room: {e}\")\n",
    "\n",
    "def display_room_details():\n",
    "    try:\n",
    "        if not rooms:\n",
    "            print(\"No rooms available.\")\n",
    "        else:\n",
    "            for room_number, details in rooms.items():\n",
    "                print(f\"Room {room_number}: Features - {details['features']}, Price - {details['price']}\")\n",
    "    except Exception as e:\n",
    "        print(f\"Error displaying room details: {e}\")\n",
    "\n",
    "def allocate_room():\n",
    "    try:\n",
    "        room_number = input(\"Enter room number to allocate: \")\n",
    "        customer_name = input(\"Enter customer name: \")\n",
    "        if room_number in rooms and room_number not in room_allocations:\n",
    "            room_allocations[room_number] = customer_name\n",
    "            print(f\"Room {room_number} allocated to {customer_name}.\")\n",
    "        else:\n",
    "            print(f\"Room {room_number} is not available.\")\n",
    "    except Exception as e:\n",
    "        print(f\"Error allocating room: {e}\")\n",
    "\n",
    "def display_room_allocation_details():\n",
    "    try:\n",
    "        if not room_allocations:\n",
    "            print(\"No rooms allocated.\")\n",
    "        else:\n",
    "            for room_number, customer_name in room_allocations.items():\n",
    "                print(f\"Room {room_number} is allocated to {customer_name}.\")\n",
    "    except Exception as e:\n",
    "        print(f\"Error displaying room allocation details: {e}\")\n",
    "\n",
    "def billing_and_deallocation():\n",
    "    try:\n",
    "        room_number = input(\"Enter room number to deallocate: \")\n",
    "        if room_number in room_allocations:\n",
    "            customer_name = room_allocations[room_number]\n",
    "            room_price = rooms[room_number]['price']\n",
    "            del room_allocations[room_number]\n",
    "            print(f\"Room {room_number} has been deallocated from {customer_name}.\")\n",
    "            print(f\"Billing amount for {customer_name} is ${room_price}.\")\n",
    "        else:\n",
    "            print(f\"Room {room_number} is not currently allocated.\")\n",
    "    except Exception as e:\n",
    "        print(f\"Error deallocating room: {e}\")\n",
    "\n",
    "def save_room_allocation_to_file():\n",
    "    try:\n",
    "        with open(filename, 'w') as file:\n",
    "            for room_number, customer_name in room_allocations.items():\n",
    "                file.write(f\"Room {room_number}: {customer_name}\\n\")\n",
    "        print(\"Room allocation saved to file.\")\n",
    "    except IOError as e:\n",
    "        print(f\"Error saving to file: {e}\")\n",
    "\n",
    "def show_room_allocation_from_file():\n",
    "    try:\n",
    "        with open(filename, 'r') as file:\n",
    "            content = file.read().strip()\n",
    "            if content:\n",
    "                print(content)\n",
    "            else:\n",
    "                print(\"No room allocations found in the file.\")\n",
    "    except IOError as e:\n",
    "        print(f\"Error reading from file: {e}\")\n",
    "\n",
    "def backup_file():\n",
    "    try:\n",
    "        backup_filename = f\"LHMS_764707639_Backup_{datetime.datetime.now().strftime('%Y%m%d_%H%M%S')}.txt\"\n",
    "        with open(filename, 'r') as original, open(backup_filename, 'w') as backup:\n",
    "            backup.write(original.read())\n",
    "        with open(filename, 'w') as original:\n",
    "            original.write(\"\")\n",
    "        print(f\"Backup created: {backup_filename}\")\n",
    "    except IOError as e:\n",
    "        print(f\"Error creating backup: {e}\")\n",
    "\n",
    "def run():\n",
    "    create_file_if_not_exists()\n",
    "    \n",
    "    while True:\n",
    "        print(\"\\nHotel Management System\")\n",
    "        print(\"1. Add Room\")\n",
    "        print(\"2. Delete Room\")\n",
    "        print(\"3. Display Rooms Details\")\n",
    "        print(\"4. Allocate Rooms\")\n",
    "        print(\"5. Display Room Allocation Details\")\n",
    "        print(\"6. Billing & De-Allocation\")\n",
    "        print(\"7. Save Room Allocation to File\")\n",
    "        print(\"8. Show Room Allocation from File\")\n",
    "        print(\"9. Backup Room Allocation File\")\n",
    "        print(\"0. Exit Application\")\n",
    "\n",
    "        try:\n",
    "            choice = input(\"Enter your choice: \")\n",
    "\n",
    "            if choice == '1':\n",
    "                add_room()\n",
    "            elif choice == '2':\n",
    "                delete_room()\n",
    "            elif choice == '3':\n",
    "                display_room_details()\n",
    "            elif choice == '4':\n",
    "                allocate_room()\n",
    "            elif choice == '5':\n",
    "                display_room_allocation_details()\n",
    "            elif choice == '6':\n",
    "                billing_and_deallocation()\n",
    "            elif choice == '7':\n",
    "                save_room_allocation_to_file()\n",
    "            elif choice == '8':\n",
    "                show_room_allocation_from_file()\n",
    "            elif choice == '9':\n",
    "                backup_file()\n",
    "            elif choice == '0':\n",
    "                print(\"Exiting application.\")\n",
    "                break\n",
    "            else:\n",
    "                print(\"Invalid choice. Please try again.\")\n",
    "        except ValueError:\n",
    "            print(\"Invalid input. Please enter a valid number.\")\n",
    "        except KeyboardInterrupt:\n",
    "            print(\"\\nApplication interrupted.\")\n",
    "            break\n",
    "        except Exception as e:\n",
    "            print(f\"An unexpected error occurred: {e}\")\n",
    "\n",
    "if __name__ == \"__main__\":\n",
    "    try:\n",
    "        run()\n",
    "    except SyntaxError:\n",
    "        print(\"Syntax error in the code.\")\n",
    "    except ValueError:\n",
    "        print(\"Value error encountered.\")\n",
    "    except ZeroDivisionError:\n",
    "        print(\"Attempted to divide by zero.\")\n",
    "    except IndexError:\n",
    "        print(\"List index out of range.\")\n",
    "    except NameError:\n",
    "        print(\"Name not defined.\")\n",
    "    except TypeError:\n",
    "        print(\"Type error encountered.\")\n",
    "    except OverflowError:\n",
    "        print(\"Overflow error encountered.\")\n",
    "    except IOError:\n",
    "        print(\"Input/output error encountered.\")\n",
    "    except ImportError:\n",
    "        print(\"Module import error encountered.\")\n",
    "    except EOFError:\n",
    "        print(\"End of file error encountered.\")\n",
    "    except FileNotFoundError:\n",
    "        print(\"File not found error encountered.\")"
   ]
  },
  {
   "cell_type": "code",
   "execution_count": null,
   "id": "13c888d3-f39b-451b-9ece-8dd42f16ea03",
   "metadata": {},
   "outputs": [],
   "source": []
  }
 ],
 "metadata": {
  "kernelspec": {
   "display_name": "Python 3 (ipykernel)",
   "language": "python",
   "name": "python3"
  },
  "language_info": {
   "codemirror_mode": {
    "name": "ipython",
    "version": 3
   },
   "file_extension": ".py",
   "mimetype": "text/x-python",
   "name": "python",
   "nbconvert_exporter": "python",
   "pygments_lexer": "ipython3",
   "version": "3.11.7"
  }
 },
 "nbformat": 4,
 "nbformat_minor": 5
}
